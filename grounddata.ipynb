{
 "cells": [
  {
   "cell_type": "code",
   "execution_count": 45,
   "metadata": {
    "ExecuteTime": {
     "end_time": "2019-05-30T09:02:00.462319Z",
     "start_time": "2019-05-30T09:02:00.446432Z"
    },
    "scrolled": true
   },
   "outputs": [],
   "source": [
    "import pandas as pd\n",
    "import numpy as np\n",
    "input = pd.read_csv(\n",
    "    '/Users/cynmi/Desktop/交通建模/06延安路地面发布段速度数据.csv', chunksize=1000000)"
   ]
  },
  {
   "cell_type": "code",
   "execution_count": 46,
   "metadata": {
    "ExecuteTime": {
     "end_time": "2019-05-30T09:02:03.136189Z",
     "start_time": "2019-05-30T09:02:02.473401Z"
    }
   },
   "outputs": [
    {
     "name": "stdout",
     "output_type": "stream",
     "text": [
      "82\n"
     ]
    }
   ],
   "source": [
    "for chunk in input:\n",
    "    adcode = list(set(chunk['FSTR_BMCODE']))\n",
    "    print(len(adcode))\n",
    "\n",
    "#     chunk=chunk.sort_values('FDT_TIME')"
   ]
  },
  {
   "cell_type": "code",
   "execution_count": 52,
   "metadata": {
    "ExecuteTime": {
     "end_time": "2019-05-30T09:09:33.255366Z",
     "start_time": "2019-05-30T09:09:08.531033Z"
    },
    "lang": "zh-cn",
    "scrolled": true
   },
   "outputs": [],
   "source": [
    "# 按地点分的速度数\n",
    "for n in adcode:\n",
    "    names = locals()\n",
    "    for i in range(len(adcode)):\n",
    "        names['add'+str(i)] = chunk[chunk['FSTR_BMCODE'] == n]\n",
    "        "
   ]
  },
  {
   "cell_type": "markdown",
   "metadata": {
    "lang": "en"
   },
   "source": [
    "# Speed ​​by location\n",
    "k = ''\n",
    "For n in adcode:\n",
    "    If chunk['FSTR_BMCODE'] == i:\n",
    "        k = chunk.index\n",
    "# add = chunk(k)"
   ]
  },
  {
   "cell_type": "code",
   "execution_count": 53,
   "metadata": {
    "ExecuteTime": {
     "end_time": "2019-05-30T14:24:16.217642Z",
     "start_time": "2019-05-30T14:24:16.203843Z"
    }
   },
   "outputs": [
    {
     "name": "stdout",
     "output_type": "stream",
     "text": [
      "[21322721301, 21282699801, 21322721311, 21282699811, 21332759601, 21071831601, 21192373301, 21101996601, 21302700602, 21071831611, 21332759611, 21322711101, 21192373311, 21101996611, 21302700612, 21322711111, 21292762202, 21292762212, 21071897701, 21071897702, 21232477801, 21071897711, 21071897712, 21142028401, 21232477811, 21142028411, 21101933701, 21101933711, 21202366101, 21372900502, 21182299801, 21202366111, 21372900512, 21182299811, 21252547801, 21252547811, 21362981101, 21322776301, 21322776311, 21362981111, 21342875901, 21342875911, 21182205201, 21342896401, 21272615702, 21182205211, 21342896411, 21272615712, 21212309301, 21232443702, 21362807101, 21152157501, 21212309311, 21232443712, 21362807111, 21152157511, 21162169701, 21162169711, 21282616701, 21132032901, 21222490501, 21282616711, 21352866701, 21352866702, 21132032911, 21222490511, 21232499601, 21312772501, 21352866711, 21352866712, 21232499611, 21312772511, 21342813101, 21342813111, 21262692801, 21302760901, 21262692811, 21302760911, 21121977301, 21121977311, 21262630901, 21262630911]\n"
     ]
    }
   ],
   "source": [
    "print(adcode)"
   ]
  },
  {
   "cell_type": "markdown",
   "metadata": {
    "lang": "zh-cn"
   },
   "source": [
    "# 地点 分 的 速度 数\n",
    "k = ''\n",
    "pour n dans adcode:\n",
    "    si morceau ['FSTR_BMCODE'] == i:\n",
    "        k = chunk.index\n",
    "# add = chunk (k)"
   ]
  },
  {
   "cell_type": "markdown",
   "metadata": {
    "lang": "en"
   },
   "source": [
    "#位置 分的速度数\n",
    "k = ''\n",
    "Pour n dans adcode:\n",
    "Si morceau ['FSTR_BMCODE'] == i:\n",
    "k = chunk.index\n",
    "# add = chunk (k)"
   ]
  },
  {
   "cell_type": "markdown",
   "metadata": {
    "lang": "fr"
   },
   "source": [
    "# 地点 分 的 速度 数\n",
    "k = ''\n",
    "pour n dans adcode:\n",
    "    si morceau ['FSTR_BMCODE'] == i:\n",
    "        k = chunk.index\n",
    "# add = chunk (k)"
   ]
  },
  {
   "cell_type": "code",
   "execution_count": 10,
   "metadata": {
    "ExecuteTime": {
     "end_time": "2019-05-30T07:38:56.281151Z",
     "start_time": "2019-05-30T07:38:56.271726Z"
    },
    "lang": "en"
   },
   "outputs": [],
   "source": [
    "filename = open('data0826.csv', 'a')\n",
    "mylist = ''"
   ]
  },
  {
   "cell_type": "markdown",
   "metadata": {
    "lang": "fr"
   },
   "source": [
    "filename = open ('data0826.csv', 'a')\n",
    "mylist = ''"
   ]
  },
  {
   "cell_type": "code",
   "execution_count": 11,
   "metadata": {
    "ExecuteTime": {
     "end_time": "2019-05-30T07:43:41.877269Z",
     "start_time": "2019-05-30T07:39:00.393841Z"
    }
   },
   "outputs": [
    {
     "name": "stdout",
     "output_type": "stream",
     "text": [
      "823344\n"
     ]
    }
   ],
   "source": [
    "date = 2018,8,27\n",
    "chunk['FDT_TIME'] = pd.to_datetime(\n",
    "    chunk['FDT_TIME'], format=\"%Y-%m-%d %H:%M:%S\")\n",
    "for i in range(len(chunk)):\n",
    "    k = chunk.iloc[i]['FDT_TIME']  # 得到第i行的'FDT_TIME'列的值\n",
    "    if k < pd.datetime(date):\n",
    "        \n",
    "        for m in chunk.columns.values:  # chunk.columns.values得到列名\n",
    "            if m == 'FDT_TIME':\n",
    "                sjcha = chunk.iloc[i][m] - \\\n",
    "                    pd.datetime(2018, 8, 27)  # 计算出两个日期之间的差\n",
    "                sjchuo = sjcha.days*86400+sjcha.seconds\n",
    "                mylist = mylist+str(sjchuo)  # 每行的数据装进字符串\n",
    "            else:\n",
    "                mylist = mylist + str(chunk.iloc[i][m])\n",
    "        mylist = mylist+'\\n'"
   ]
  },
  {
   "cell_type": "code",
   "execution_count": 16,
   "metadata": {
    "ExecuteTime": {
     "end_time": "2019-05-30T07:47:42.020832Z",
     "start_time": "2019-05-30T07:47:42.013830Z"
    }
   },
   "outputs": [
    {
     "name": "stdout",
     "output_type": "stream",
     "text": [
      "2018-09-01 23:20:00\n"
     ]
    }
   ],
   "source": [
    "print(k)"
   ]
  },
  {
   "cell_type": "code",
   "execution_count": null,
   "metadata": {
    "lang": "en"
   },
   "outputs": [],
   "source": [
    "fielname.write(mylist)\n",
    "fielname.close()"
   ]
  },
  {
   "cell_type": "markdown",
   "metadata": {
    "lang": "en"
   },
   "source": []
  },
  {
   "cell_type": "markdown",
   "metadata": {
    "lang": "fr"
   },
   "source": []
  },
  {
   "cell_type": "code",
   "execution_count": 9,
   "metadata": {},
   "outputs": [
    {
     "ename": "NameError",
     "evalue": "name 'dosomething' is not defined",
     "output_type": "error",
     "traceback": [
      "\u001b[1;31m---------------------------------------------------------------------------\u001b[0m",
      "\u001b[1;31mNameError\u001b[0m                                 Traceback (most recent call last)",
      "\u001b[1;32m<ipython-input-9-2db417000f6b>\u001b[0m in \u001b[0;36m<module>\u001b[1;34m\u001b[0m\n\u001b[0;32m      1\u001b[0m \u001b[1;32mfor\u001b[0m \u001b[0mi\u001b[0m \u001b[1;32min\u001b[0m \u001b[0minput\u001b[0m\u001b[1;33m:\u001b[0m\u001b[1;33m\u001b[0m\u001b[1;33m\u001b[0m\u001b[0m\n\u001b[1;32m----> 2\u001b[1;33m     \u001b[0mchunk\u001b[0m \u001b[1;33m=\u001b[0m \u001b[0mdosomething\u001b[0m\u001b[1;33m(\u001b[0m\u001b[0minput\u001b[0m\u001b[1;33m)\u001b[0m\u001b[1;33m\u001b[0m\u001b[1;33m\u001b[0m\u001b[0m\n\u001b[0m\u001b[0;32m      3\u001b[0m     \u001b[0mchunk\u001b[0m\u001b[1;33m.\u001b[0m\u001b[0mto_csv\u001b[0m\u001b[1;33m(\u001b[0m\u001b[1;34m'output.csv'\u001b[0m\u001b[1;33m,\u001b[0m \u001b[0mmode\u001b[0m\u001b[1;33m=\u001b[0m\u001b[1;34m'a'\u001b[0m\u001b[1;33m,\u001b[0m \u001b[0mheader\u001b[0m\u001b[1;33m=\u001b[0m\u001b[1;32mFalse\u001b[0m\u001b[1;33m)\u001b[0m\u001b[1;33m\u001b[0m\u001b[1;33m\u001b[0m\u001b[0m\n\u001b[0;32m      4\u001b[0m \u001b[1;33m\u001b[0m\u001b[0m\n\u001b[0;32m      5\u001b[0m \u001b[0minput\u001b[0m \u001b[1;33m=\u001b[0m \u001b[0mpd\u001b[0m\u001b[1;33m.\u001b[0m\u001b[0mread_csv\u001b[0m\u001b[1;33m(\u001b[0m\u001b[1;34m'input.csv'\u001b[0m\u001b[1;33m,\u001b[0m\u001b[0miterator\u001b[0m\u001b[1;33m=\u001b[0m\u001b[1;32mTrue\u001b[0m\u001b[1;33m)\u001b[0m\u001b[1;33m\u001b[0m\u001b[1;33m\u001b[0m\u001b[0m\n",
      "\u001b[1;31mNameError\u001b[0m: name 'dosomething' is not defined"
     ]
    }
   ],
   "source": [
    "for i in input:\n",
    "    chunk = dosomething(input)\n",
    "    chunk.to_csv('output.csv', mode='a', header=False)\n",
    "\n",
    "input = pd.read_csv('input.csv',iterator=True)\n",
    "\n",
    "while loop:\n",
    "    try:\n",
    "        chunk = reader.get_chunk(1000000)\n",
    "        chunk.to_csv('output.csv', mode='a',header=False)\n",
    "\n",
    "    except StopIteration:\n",
    "        break\n"
   ]
  },
  {
   "cell_type": "code",
   "execution_count": null,
   "metadata": {},
   "outputs": [],
   "source": []
  }
 ],
 "metadata": {
  "kernelspec": {
   "display_name": "Python 3",
   "language": "python",
   "name": "python3"
  },
  "language_info": {
   "codemirror_mode": {
    "name": "ipython",
    "version": 3
   },
   "file_extension": ".py",
   "mimetype": "text/x-python",
   "name": "python",
   "nbconvert_exporter": "python",
   "pygments_lexer": "ipython3",
   "version": "3.7.2"
  },
  "nbTranslate": {
   "displayLangs": [],
   "hotkey": "alt-t",
   "langInMainMenu": true,
   "sourceLang": "zh-cn",
   "targetLang": "en",
   "useGoogleTranslate": true
  },
  "toc": {
   "base_numbering": 1,
   "nav_menu": {},
   "number_sections": true,
   "sideBar": true,
   "skip_h1_title": false,
   "title_cell": "Table of Contents",
   "title_sidebar": "Contents",
   "toc_cell": false,
   "toc_position": {},
   "toc_section_display": true,
   "toc_window_display": false
  },
  "varInspector": {
   "cols": {
    "lenName": 16,
    "lenType": 16,
    "lenVar": 40
   },
   "kernels_config": {
    "python": {
     "delete_cmd_postfix": "",
     "delete_cmd_prefix": "del ",
     "library": "var_list.py",
     "varRefreshCmd": "print(var_dic_list())"
    },
    "r": {
     "delete_cmd_postfix": ") ",
     "delete_cmd_prefix": "rm(",
     "library": "var_list.r",
     "varRefreshCmd": "cat(var_dic_list()) "
    }
   },
   "position": {
    "height": "220px",
    "left": "893px",
    "right": "20px",
    "top": "408px",
    "width": "366px"
   },
   "types_to_exclude": [
    "module",
    "function",
    "builtin_function_or_method",
    "instance",
    "_Feature"
   ],
   "window_display": true
  }
 },
 "nbformat": 4,
 "nbformat_minor": 2
}
